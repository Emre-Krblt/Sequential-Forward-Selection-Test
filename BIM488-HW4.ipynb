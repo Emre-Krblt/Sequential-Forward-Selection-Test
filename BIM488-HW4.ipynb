{
 "cells": [
  {
   "cell_type": "markdown",
   "source": [
    
   ],
   "metadata": {
    "collapsed": false
   },
   "id": "79ca924d50fe6662"
  },
  {
   "metadata": {
    "ExecuteTime": {
     "end_time": "2024-12-26T00:06:29.402766Z",
     "start_time": "2024-12-26T00:06:05.832734Z"
    }
   },
   "cell_type": "code",
   "source": [
    "# Step 1: Load the MNIST dataset and split it\n",
    "from sklearn.datasets import fetch_openml\n",
    "from sklearn.model_selection import train_test_split\n",
    "\n",
    "# Load the MNIST dataset\n",
    "mnist = fetch_openml('mnist_784', version=1)\n",
    "X, y = mnist.data, mnist.target\n",
    "\n",
    "# Split the dataset into training (60,000) and test (10,000) sets\n",
    "X_train, X_test, y_train, y_test = X[:60000], X[60000:], y[:60000], y[60000:]"
   ],
   "id": "initial_id",
   "outputs": [
    {
     "name": "stderr",
     "output_type": "stream",
     "text": [
      
     ]
    }
   ],
   "execution_count": 2
  },
  {
   "cell_type": "code",
   "source": [
    "# Step 2: Train a Decision Tree classifier and evaluate it\n",
    "from sklearn.tree import DecisionTreeClassifier\n",
    "from sklearn.metrics import accuracy_score\n",
    "\n",
    "# Train the model\n",
    "dt_clf = DecisionTreeClassifier(random_state=42)\n",
    "dt_clf.fit(X_train, y_train)\n",
    "\n",
    "# Evaluate the model on the test set\n",
    "y_pred = dt_clf.predict(X_test)\n",
    "accuracy_dt = accuracy_score(y_test, y_pred)\n",
    "print(f\"Accuracy of Decision Tree classifier (all features): {accuracy_dt:.4f}\")"
   ],
   "metadata": {
    "collapsed": false,
    "ExecuteTime": {
     "end_time": "2024-12-26T00:06:46.065248Z",
     "start_time": "2024-12-26T00:06:29.402766Z"
    }
   },
   "id": "8c978e74fb86c2fb",
   "outputs": [
    {
     "name": "stdout",
     "output_type": "stream",
     "text": [
      "Accuracy of Decision Tree classifier (all features): 0.8755\n"
     ]
    }
   ],
   "execution_count": 3
  },
  {
   "cell_type": "code",
   "source": [
    "# Step 3: Perform Sequential Forward Selection (SFS) to select the best 20 features\n",
    "from sklearn.feature_selection import SequentialFeatureSelector\n",
    "\n",
    "# Initialize the SFS with a Decision Tree classifier\n",
    "sfs = SequentialFeatureSelector(DecisionTreeClassifier(random_state=42), \n",
    "                                n_features_to_select=20, \n",
    "                                direction='forward', \n",
    "                                scoring='accuracy', \n",
    "                                cv=3,\n",
    "                                n_jobs=-1)\n",
    "\n",
    "# Fit SFS on the training data\n",
    "sfs.fit(X_train, y_train)\n"
   ],
   "metadata": {
    "collapsed": false,
    "ExecuteTime": {
     "end_time": "2024-12-26T02:07:42.990966Z",
     "start_time": "2024-12-26T00:06:46.065248Z"
    }
   },
   "id": "a419da5c8b693365",
   "outputs": [
    {
     "data": {
      "text/plain": [
       "SequentialFeatureSelector(cv=3,\n",
       "                          estimator=DecisionTreeClassifier(random_state=42),\n",
       "                          n_features_to_select=20, n_jobs=-1,\n",
       "                          scoring='accuracy')"
      ],
      "text/html": [
       "<style>#sk-container-id-1 {color: black;}#sk-container-id-1 pre{padding: 0;}#sk-container-id-1 div.sk-toggleable {background-color: white;}#sk-container-id-1 label.sk-toggleable__label {cursor: pointer;display: block;width: 100%;margin-bottom: 0;padding: 0.3em;box-sizing: border-box;text-align: center;}#sk-container-id-1 label.sk-toggleable__label-arrow:before {content: \"▸\";float: left;margin-right: 0.25em;color: #696969;}#sk-container-id-1 label.sk-toggleable__label-arrow:hover:before {color: black;}#sk-container-id-1 div.sk-estimator:hover label.sk-toggleable__label-arrow:before {color: black;}#sk-container-id-1 div.sk-toggleable__content {max-height: 0;max-width: 0;overflow: hidden;text-align: left;background-color: #f0f8ff;}#sk-container-id-1 div.sk-toggleable__content pre {margin: 0.2em;color: black;border-radius: 0.25em;background-color: #f0f8ff;}#sk-container-id-1 input.sk-toggleable__control:checked~div.sk-toggleable__content {max-height: 200px;max-width: 100%;overflow: auto;}#sk-container-id-1 input.sk-toggleable__control:checked~label.sk-toggleable__label-arrow:before {content: \"▾\";}#sk-container-id-1 div.sk-estimator input.sk-toggleable__control:checked~label.sk-toggleable__label {background-color: #d4ebff;}#sk-container-id-1 div.sk-label input.sk-toggleable__control:checked~label.sk-toggleable__label {background-color: #d4ebff;}#sk-container-id-1 input.sk-hidden--visually {border: 0;clip: rect(1px 1px 1px 1px);clip: rect(1px, 1px, 1px, 1px);height: 1px;margin: -1px;overflow: hidden;padding: 0;position: absolute;width: 1px;}#sk-container-id-1 div.sk-estimator {font-family: monospace;background-color: #f0f8ff;border: 1px dotted black;border-radius: 0.25em;box-sizing: border-box;margin-bottom: 0.5em;}#sk-container-id-1 div.sk-estimator:hover {background-color: #d4ebff;}#sk-container-id-1 div.sk-parallel-item::after {content: \"\";width: 100%;border-bottom: 1px solid gray;flex-grow: 1;}#sk-container-id-1 div.sk-label:hover label.sk-toggleable__label {background-color: #d4ebff;}#sk-container-id-1 div.sk-serial::before {content: \"\";position: absolute;border-left: 1px solid gray;box-sizing: border-box;top: 0;bottom: 0;left: 50%;z-index: 0;}#sk-container-id-1 div.sk-serial {display: flex;flex-direction: column;align-items: center;background-color: white;padding-right: 0.2em;padding-left: 0.2em;position: relative;}#sk-container-id-1 div.sk-item {position: relative;z-index: 1;}#sk-container-id-1 div.sk-parallel {display: flex;align-items: stretch;justify-content: center;background-color: white;position: relative;}#sk-container-id-1 div.sk-item::before, #sk-container-id-1 div.sk-parallel-item::before {content: \"\";position: absolute;border-left: 1px solid gray;box-sizing: border-box;top: 0;bottom: 0;left: 50%;z-index: -1;}#sk-container-id-1 div.sk-parallel-item {display: flex;flex-direction: column;z-index: 1;position: relative;background-color: white;}#sk-container-id-1 div.sk-parallel-item:first-child::after {align-self: flex-end;width: 50%;}#sk-container-id-1 div.sk-parallel-item:last-child::after {align-self: flex-start;width: 50%;}#sk-container-id-1 div.sk-parallel-item:only-child::after {width: 0;}#sk-container-id-1 div.sk-dashed-wrapped {border: 1px dashed gray;margin: 0 0.4em 0.5em 0.4em;box-sizing: border-box;padding-bottom: 0.4em;background-color: white;}#sk-container-id-1 div.sk-label label {font-family: monospace;font-weight: bold;display: inline-block;line-height: 1.2em;}#sk-container-id-1 div.sk-label-container {text-align: center;}#sk-container-id-1 div.sk-container {/* jupyter's `normalize.less` sets `[hidden] { display: none; }` but bootstrap.min.css set `[hidden] { display: none !important; }` so we also need the `!important` here to be able to override the default hidden behavior on the sphinx rendered scikit-learn.org. See: https://github.com/scikit-learn/scikit-learn/issues/21755 */display: inline-block !important;position: relative;}#sk-container-id-1 div.sk-text-repr-fallback {display: none;}</style><div id=\"sk-container-id-1\" class=\"sk-top-container\"><div class=\"sk-text-repr-fallback\"><pre>SequentialFeatureSelector(cv=3,\n",
       "                          estimator=DecisionTreeClassifier(random_state=42),\n",
       "                          n_features_to_select=20, n_jobs=-1,\n",
       "                          scoring=&#x27;accuracy&#x27;)</pre><b>In a Jupyter environment, please rerun this cell to show the HTML representation or trust the notebook. <br />On GitHub, the HTML representation is unable to render, please try loading this page with nbviewer.org.</b></div><div class=\"sk-container\" hidden><div class=\"sk-item sk-dashed-wrapped\"><div class=\"sk-label-container\"><div class=\"sk-label sk-toggleable\"><input class=\"sk-toggleable__control sk-hidden--visually\" id=\"sk-estimator-id-1\" type=\"checkbox\" ><label for=\"sk-estimator-id-1\" class=\"sk-toggleable__label sk-toggleable__label-arrow\">SequentialFeatureSelector</label><div class=\"sk-toggleable__content\"><pre>SequentialFeatureSelector(cv=3,\n",
       "                          estimator=DecisionTreeClassifier(random_state=42),\n",
       "                          n_features_to_select=20, n_jobs=-1,\n",
       "                          scoring=&#x27;accuracy&#x27;)</pre></div></div></div><div class=\"sk-parallel\"><div class=\"sk-parallel-item\"><div class=\"sk-item\"><div class=\"sk-label-container\"><div class=\"sk-label sk-toggleable\"><input class=\"sk-toggleable__control sk-hidden--visually\" id=\"sk-estimator-id-2\" type=\"checkbox\" ><label for=\"sk-estimator-id-2\" class=\"sk-toggleable__label sk-toggleable__label-arrow\">estimator: DecisionTreeClassifier</label><div class=\"sk-toggleable__content\"><pre>DecisionTreeClassifier(random_state=42)</pre></div></div></div><div class=\"sk-serial\"><div class=\"sk-item\"><div class=\"sk-estimator sk-toggleable\"><input class=\"sk-toggleable__control sk-hidden--visually\" id=\"sk-estimator-id-3\" type=\"checkbox\" ><label for=\"sk-estimator-id-3\" class=\"sk-toggleable__label sk-toggleable__label-arrow\">DecisionTreeClassifier</label><div class=\"sk-toggleable__content\"><pre>DecisionTreeClassifier(random_state=42)</pre></div></div></div></div></div></div></div></div></div></div>"
      ]
     },
     "execution_count": 4,
     "metadata": {},
     "output_type": "execute_result"
    }
   ],
   "execution_count": 4
  },
  {
   "cell_type": "code",
   "source": [
    "# Get the selected features\n",
    "selected_features = sfs.get_support(indices=True)\n",
    "X_train_reduced = X_train.iloc[:, selected_features]\n",
    "X_test_reduced = X_test.iloc[:, selected_features]"
   ],
   "metadata": {
    "collapsed": false,
    "ExecuteTime": {
     "end_time": "2024-12-26T02:07:43.006851Z",
     "start_time": "2024-12-26T02:07:42.992199Z"
    }
   },
   "id": "f7f0147703802b38",
   "outputs": [],
   "execution_count": 5
  },
  {
   "cell_type": "code",
   "source": [
    "# Step 4: Train another Decision Tree classifier using the selected features\n",
    "reduced_dt_clf = DecisionTreeClassifier(random_state=42)\n",
    "reduced_dt_clf.fit(X_train_reduced, y_train)\n",
    "\n",
    "# Evaluate the reduced model on the test set\n",
    "y_pred_reduced = reduced_dt_clf.predict(X_test_reduced)\n",
    "accuracy_reduced_dt = accuracy_score(y_test, y_pred_reduced)\n",
    "print(f\"Accuracy of Decision Tree classifier (reduced features): {accuracy_reduced_dt:.4f}\")"
   ],
   "metadata": {
    "collapsed": false,
    "ExecuteTime": {
     "end_time": "2024-12-26T02:07:43.914844Z",
     "start_time": "2024-12-26T02:07:43.006851Z"
    }
   },
   "id": "6fdbe55dd84dca5f",
   "outputs": [
    {
     "name": "stdout",
     "output_type": "stream",
     "text": [
      "Accuracy of Decision Tree classifier (reduced features): 0.8324\n"
     ]
    }
   ],
   "execution_count": 6
  },
  {
   "cell_type": "code",
   "source": [
    "# Step 5: Compare models in terms of training time and accuracy\n",
    "import time\n",
    "\n",
    "# Measure training time for the original model\n",
    "start_time = time.time()\n",
    "dt_clf.fit(X_train, y_train)\n",
    "original_training_time = time.time() - start_time\n",
    "\n",
    "# Measure training time for the reduced model\n",
    "start_time = time.time()\n",
    "reduced_dt_clf.fit(X_train_reduced, y_train)\n",
    "reduced_training_time = time.time() - start_time\n",
    "\n",
    "print(f\"Training time (all features): {original_training_time:.2f} seconds\")\n",
    "print(f\"Training time (reduced features): {reduced_training_time:.2f} seconds\")"
   ],
   "metadata": {
    "collapsed": false,
    "ExecuteTime": {
     "end_time": "2024-12-26T02:08:01.437871Z",
     "start_time": "2024-12-26T02:07:43.915844Z"
    }
   },
   "id": "22a80b820adc64c0",
   "outputs": [
    {
     "name": "stdout",
     "output_type": "stream",
     "text": [
      "Training time (all features): 16.79 seconds\n",
      "Training time (reduced features): 0.71 seconds\n"
     ]
    }
   ],
   "execution_count": 7
  },
  {
   "cell_type": "markdown",
   "source": [
    "In the last part we ran, we compared the training times between all features and reduced features. The training time of the model trained with reduced features was shorter than the model trained with all features. Because it uses fewer features, its complexity has decreased and its duration has decreased. However, we spent extra time to determine which features to select with the SFS algorithm, and this took approximately 2 hours. In this process, instead of spending 2 hours to select 20 features, we could do our training directly. Therefore, our cost would be lower. In this case, when performing feature selection with SFS, we must decide how effective it will be in our problem and act accordingly."
   ],
   "metadata": {
    "collapsed": false
   },
   "id": "912bf34bcdd13e5e"
  },
  {
   "cell_type": "markdown",
   "source": [],
   "metadata": {
    "collapsed": false
   },
   "id": "bfaa5ab4bc078406"
  }
 ],
 "metadata": {
  "kernelspec": {
   "display_name": "Python 3",
   "language": "python",
   "name": "python3"
  },
  "language_info": {
   "codemirror_mode": {
    "name": "ipython",
    "version": 2
   },
   "file_extension": ".py",
   "mimetype": "text/x-python",
   "name": "python",
   "nbconvert_exporter": "python",
   "pygments_lexer": "ipython2",
   "version": "2.7.6"
  }
 },
 "nbformat": 4,
 "nbformat_minor": 5
}
